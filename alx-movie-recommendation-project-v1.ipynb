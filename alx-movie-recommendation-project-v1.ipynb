{
 "cells": [
  {
   "cell_type": "code",
   "execution_count": 1,
   "id": "244528a7-e8f6-4762-8281-cd9be75d46a5",
   "metadata": {
    "execution": {
     "iopub.execute_input": "2024-06-22T20:12:02.184253Z",
     "iopub.status.busy": "2024-06-22T20:12:02.183542Z",
     "iopub.status.idle": "2024-06-22T20:12:03.631863Z",
     "shell.execute_reply": "2024-06-22T20:12:03.631863Z",
     "shell.execute_reply.started": "2024-06-22T20:12:02.184253Z"
    }
   },
   "outputs": [],
   "source": [
    "import pandas as pd\n",
    "import numpy as np\n",
    "import re\n",
    "from sklearn.cluster import KMeans\n",
    "from sklearn.metrics.pairwise import cosine_similarity\n",
    "from sklearn.preprocessing import StandardScaler\n",
    "from surprise import Dataset, Reader, KNNBasic\n",
    "from surprise.model_selection import train_test_split\n",
    "from surprise import accuracy\n",
    "from sklearn.metrics import root_mean_squared_error\n",
    "import matplotlib.pyplot as plt\n",
    "import seaborn as sns\n",
    "import warnings\n",
    "warnings.simplefilter(action='ignore')"
   ]
  },
  {
   "cell_type": "code",
   "execution_count": 2,
   "id": "da4f1713-6aef-45dd-bc5f-2268e3431742",
   "metadata": {
    "execution": {
     "iopub.execute_input": "2024-06-22T20:12:03.635045Z",
     "iopub.status.busy": "2024-06-22T20:12:03.634013Z",
     "iopub.status.idle": "2024-06-22T20:12:03.642173Z",
     "shell.execute_reply": "2024-06-22T20:12:03.640878Z",
     "shell.execute_reply.started": "2024-06-22T20:12:03.635045Z"
    }
   },
   "outputs": [],
   "source": [
    "# Load Data\n",
    "# Set Links to CSV files\n",
    "movies_link = './kaggle/input/alx-movie-recommendation-project-2024/movies.csv'\n",
    "imdb_link = './kaggle/input/alx-movie-recommendation-project-2024/imdb_data.csv'\n",
    "genome_link = './kaggle/input/alx-movie-recommendation-project-2024/genome_tags.csv'\n",
    "genome_score_link = './kaggle/input/alx-movie-recommendation-project-2024/genome_scores.csv'\n",
    "train_link = './kaggle/input/alx-movie-recommendation-project-2024/train.csv'\n",
    "test_link = './kaggle/input/alx-movie-recommendation-project-2024/test.csv'\n",
    "tags_link = './kaggle/input/alx-movie-recommendation-project-2024/tags.csv'\n",
    "links_link = './kaggle/input/alx-movie-recommendation-project-2024/links.csv'"
   ]
  },
  {
   "cell_type": "code",
   "execution_count": 3,
   "id": "da3f885d-4336-44f8-9f03-d6fd8d3d95b9",
   "metadata": {
    "execution": {
     "iopub.execute_input": "2024-06-22T20:12:03.644359Z",
     "iopub.status.busy": "2024-06-22T20:12:03.643274Z",
     "iopub.status.idle": "2024-06-22T20:12:12.843355Z",
     "shell.execute_reply": "2024-06-22T20:12:12.842265Z",
     "shell.execute_reply.started": "2024-06-22T20:12:03.644336Z"
    }
   },
   "outputs": [],
   "source": [
    "# Load data to Pandas Dataframe\n",
    "# Load data\n",
    "genome_scores = pd.read_csv(genome_score_link)\n",
    "genome_tags = pd.read_csv(genome_link)\n",
    "tags = pd.read_csv(tags_link)\n",
    "imdb_data = pd.read_csv(imdb_link)\n",
    "movies = pd.read_csv(movies_link)\n",
    "train = pd.read_csv(train_link)\n",
    "test = pd.read_csv(test_link)\n",
    "links = pd.read_csv(links_link)"
   ]
  },
  {
   "cell_type": "code",
   "execution_count": 4,
   "id": "4b412586-15bf-4f2d-9883-10ac07089e88",
   "metadata": {
    "execution": {
     "iopub.execute_input": "2024-06-22T20:12:12.845041Z",
     "iopub.status.busy": "2024-06-22T20:12:12.844267Z",
     "iopub.status.idle": "2024-06-22T20:12:12.885850Z",
     "shell.execute_reply": "2024-06-22T20:12:12.884767Z",
     "shell.execute_reply.started": "2024-06-22T20:12:12.845041Z"
    }
   },
   "outputs": [
    {
     "data": {
      "text/html": [
       "<div>\n",
       "<style scoped>\n",
       "    .dataframe tbody tr th:only-of-type {\n",
       "        vertical-align: middle;\n",
       "    }\n",
       "\n",
       "    .dataframe tbody tr th {\n",
       "        vertical-align: top;\n",
       "    }\n",
       "\n",
       "    .dataframe thead th {\n",
       "        text-align: right;\n",
       "    }\n",
       "</style>\n",
       "<table border=\"1\" class=\"dataframe\">\n",
       "  <thead>\n",
       "    <tr style=\"text-align: right;\">\n",
       "      <th></th>\n",
       "      <th>movieId</th>\n",
       "      <th>title</th>\n",
       "      <th>genres</th>\n",
       "      <th>title_cast</th>\n",
       "      <th>director</th>\n",
       "      <th>runtime</th>\n",
       "      <th>budget</th>\n",
       "      <th>plot_keywords</th>\n",
       "    </tr>\n",
       "  </thead>\n",
       "  <tbody>\n",
       "    <tr>\n",
       "      <th>0</th>\n",
       "      <td>1</td>\n",
       "      <td>Toy Story (1995)</td>\n",
       "      <td>Adventure|Animation|Children|Comedy|Fantasy</td>\n",
       "      <td>Tom Hanks|Tim Allen|Don Rickles|Jim Varney|Wal...</td>\n",
       "      <td>John Lasseter</td>\n",
       "      <td>81.0</td>\n",
       "      <td>$30,000,000</td>\n",
       "      <td>toy|rivalry|cowboy|cgi animation</td>\n",
       "    </tr>\n",
       "    <tr>\n",
       "      <th>1</th>\n",
       "      <td>2</td>\n",
       "      <td>Jumanji (1995)</td>\n",
       "      <td>Adventure|Children|Fantasy</td>\n",
       "      <td>Robin Williams|Jonathan Hyde|Kirsten Dunst|Bra...</td>\n",
       "      <td>Jonathan Hensleigh</td>\n",
       "      <td>104.0</td>\n",
       "      <td>$65,000,000</td>\n",
       "      <td>board game|adventurer|fight|game</td>\n",
       "    </tr>\n",
       "  </tbody>\n",
       "</table>\n",
       "</div>"
      ],
      "text/plain": [
       "   movieId             title                                       genres  \\\n",
       "0        1  Toy Story (1995)  Adventure|Animation|Children|Comedy|Fantasy   \n",
       "1        2    Jumanji (1995)                   Adventure|Children|Fantasy   \n",
       "\n",
       "                                          title_cast            director  \\\n",
       "0  Tom Hanks|Tim Allen|Don Rickles|Jim Varney|Wal...       John Lasseter   \n",
       "1  Robin Williams|Jonathan Hyde|Kirsten Dunst|Bra...  Jonathan Hensleigh   \n",
       "\n",
       "   runtime       budget                     plot_keywords  \n",
       "0     81.0  $30,000,000  toy|rivalry|cowboy|cgi animation  \n",
       "1    104.0  $65,000,000  board game|adventurer|fight|game  "
      ]
     },
     "execution_count": 4,
     "metadata": {},
     "output_type": "execute_result"
    }
   ],
   "source": [
    "# Preprocess & Merge datasets\n",
    "# Merge Train Data with Movies Metadata\n",
    "# Merge movies data with imdb_data metadata\n",
    "movies = movies.merge(imdb_data, on='movieId', how='left')\n",
    "movies.dropna(inplace=True, axis=0)\n",
    "movies.head(2)"
   ]
  },
  {
   "cell_type": "code",
   "execution_count": 5,
   "id": "ea6adf22-5870-40c5-b970-ab56a94a9dfd",
   "metadata": {
    "execution": {
     "iopub.execute_input": "2024-06-22T20:12:12.888813Z",
     "iopub.status.busy": "2024-06-22T20:12:12.888813Z",
     "iopub.status.idle": "2024-06-22T20:12:12.894215Z",
     "shell.execute_reply": "2024-06-22T20:12:12.893219Z",
     "shell.execute_reply.started": "2024-06-22T20:12:12.888813Z"
    }
   },
   "outputs": [],
   "source": [
    "# Function to extract currency symbol\n",
    "def extract_currency(amount):\n",
    "    match = re.match(r'^([^\\d,]+)', amount)\n",
    "    if match:\n",
    "        return match.group(1)\n",
    "    return None"
   ]
  },
  {
   "cell_type": "code",
   "execution_count": 6,
   "id": "a51305ff-60dd-4ac1-bc7b-871b23730718",
   "metadata": {
    "execution": {
     "iopub.execute_input": "2024-06-22T20:12:12.895211Z",
     "iopub.status.busy": "2024-06-22T20:12:12.895211Z",
     "iopub.status.idle": "2024-06-22T20:12:12.913995Z",
     "shell.execute_reply": "2024-06-22T20:12:12.912988Z",
     "shell.execute_reply.started": "2024-06-22T20:12:12.895211Z"
    }
   },
   "outputs": [
    {
     "data": {
      "text/plain": [
       "0          $\n",
       "1          $\n",
       "2          $\n",
       "3          $\n",
       "4          $\n",
       "        ... \n",
       "28175      $\n",
       "28195    EUR\n",
       "28214    DKK\n",
       "28247    EUR\n",
       "28249    DEM\n",
       "Name: currency, Length: 6493, dtype: object"
      ]
     },
     "execution_count": 6,
     "metadata": {},
     "output_type": "execute_result"
    }
   ],
   "source": [
    "# Apply the function to the DataFrame\n",
    "movies['currency'] = movies.budget.apply(extract_currency)\n",
    "movies.currency"
   ]
  },
  {
   "cell_type": "code",
   "execution_count": 7,
   "id": "5ce0114b-b825-406c-af43-e92ea36ac44e",
   "metadata": {
    "execution": {
     "iopub.execute_input": "2024-06-22T20:12:12.914996Z",
     "iopub.status.busy": "2024-06-22T20:12:12.914996Z",
     "iopub.status.idle": "2024-06-22T20:12:12.924966Z",
     "shell.execute_reply": "2024-06-22T20:12:12.923734Z",
     "shell.execute_reply.started": "2024-06-22T20:12:12.914996Z"
    }
   },
   "outputs": [],
   "source": [
    "# Define conversion rates to USD (mock rates, replace with actual rates)\n",
    "conversion_rates = {\n",
    "    '$': 1.0, 'GBP': 1.25, 'EUR': 1.1, 'CAD': 0.75, 'FRF': 0.15, 'DEM': 0.5,\n",
    "    'AUD': 0.7, 'JPY': 0.009, 'HKD': 0.13, 'CHF': 1.1, 'ESP': 0.006,\n",
    "    'INR': 0.013, 'BEF': 0.024, 'SEK': 0.1, 'ATS': 0.07, 'NOK': 0.1,\n",
    "    'FIM': 0.2, 'SGD': 0.75, 'DKK': 0.15, 'THB': 0.03, 'BRL': 0.2,\n",
    "    'NLG': 0.5, 'BND': 0.75, 'CNY': 0.14, 'NZD': 0.65, 'HUF': 0.003,\n",
    "    'KRW': 0.00085, 'CZK': 0.045, 'PLN': 0.25, 'ISK': 0.007, 'BGL': 0.55,\n",
    "    'IDR': 0.00007, 'MYR': 0.24, 'ILS': 0.28, 'CLP': 0.0013, 'MXN': 0.05,\n",
    "    'ARS': 0.007, 'PTE': 0.005, 'VEB': 0.0001, 'TWD': 0.03, 'NGN': 0.0026,\n",
    "    'ITL': 0.0006, 'LVL': 1.6, 'RUR': 0.014, 'PHP': 0.018\n",
    "}"
   ]
  },
  {
   "cell_type": "code",
   "execution_count": 8,
   "id": "600650ce-0f7b-43de-8b7e-97b708a86268",
   "metadata": {
    "execution": {
     "iopub.execute_input": "2024-06-22T20:12:12.926743Z",
     "iopub.status.busy": "2024-06-22T20:12:12.925742Z",
     "iopub.status.idle": "2024-06-22T20:12:12.932732Z",
     "shell.execute_reply": "2024-06-22T20:12:12.931722Z",
     "shell.execute_reply.started": "2024-06-22T20:12:12.926743Z"
    }
   },
   "outputs": [],
   "source": [
    "# Function to convert to USD\n",
    "def convert_to_usd(row):\n",
    "    amount_str = row['budget']\n",
    "    currency = row['currency']\n",
    "    if currency and currency in conversion_rates:\n",
    "        conversion_rate = conversion_rates[currency]\n",
    "        # Remove the currency symbol and commas, then convert to float\n",
    "        amount = float(re.sub(r'[^\\d.]', '', amount_str))\n",
    "        # Convert to USD\n",
    "        return amount * conversion_rate\n",
    "    return None"
   ]
  },
  {
   "cell_type": "code",
   "execution_count": 9,
   "id": "de71e12f-0d3d-46e3-a665-a833c43486e8",
   "metadata": {
    "execution": {
     "iopub.execute_input": "2024-06-22T20:12:12.935732Z",
     "iopub.status.busy": "2024-06-22T20:12:12.934733Z",
     "iopub.status.idle": "2024-06-22T20:12:13.016560Z",
     "shell.execute_reply": "2024-06-22T20:12:13.015606Z",
     "shell.execute_reply.started": "2024-06-22T20:12:12.935545Z"
    }
   },
   "outputs": [
    {
     "data": {
      "text/plain": [
       "0        30000000.0\n",
       "1        65000000.0\n",
       "2        25000000.0\n",
       "3        16000000.0\n",
       "4        30000000.0\n",
       "            ...    \n",
       "28175     7500000.0\n",
       "28195     1100000.0\n",
       "28214     5250000.0\n",
       "28247       99000.0\n",
       "28249     2900000.0\n",
       "Name: budget_usd, Length: 6493, dtype: float64"
      ]
     },
     "execution_count": 9,
     "metadata": {},
     "output_type": "execute_result"
    }
   ],
   "source": [
    "# Apply the conversion function\n",
    "movies['budget_usd'] = movies.apply(convert_to_usd, axis=1)\n",
    "movies.budget_usd"
   ]
  },
  {
   "cell_type": "code",
   "execution_count": 10,
   "id": "f7ee6654-2244-4636-b531-2f097bbd5332",
   "metadata": {
    "execution": {
     "iopub.execute_input": "2024-06-22T20:12:13.017561Z",
     "iopub.status.busy": "2024-06-22T20:12:13.017047Z",
     "iopub.status.idle": "2024-06-22T20:12:16.651896Z",
     "shell.execute_reply": "2024-06-22T20:12:16.650899Z",
     "shell.execute_reply.started": "2024-06-22T20:12:13.017561Z"
    }
   },
   "outputs": [
    {
     "name": "stdout",
     "output_type": "stream",
     "text": [
      "<class 'pandas.core.frame.DataFrame'>\n",
      "RangeIndex: 10000038 entries, 0 to 10000037\n",
      "Data columns (total 9 columns):\n",
      " #   Column         Dtype  \n",
      "---  ------         -----  \n",
      " 0   userId         int64  \n",
      " 1   movieId        int64  \n",
      " 2   rating         float64\n",
      " 3   genres         object \n",
      " 4   title_cast     object \n",
      " 5   director       object \n",
      " 6   runtime        float64\n",
      " 7   plot_keywords  object \n",
      " 8   budget_usd     float64\n",
      "dtypes: float64(3), int64(2), object(4)\n",
      "memory usage: 686.6+ MB\n"
     ]
    }
   ],
   "source": [
    "# Merge train data with movie metadata\n",
    "train = train.merge(movies, on='movieId', how='left')\n",
    "train.drop(labels=['timestamp', 'title', 'budget', 'currency'], axis=1, inplace=True)\n",
    "train.head(2)\n",
    "train.info()"
   ]
  },
  {
   "cell_type": "code",
   "execution_count": 11,
   "id": "63db9f8c-f303-44ad-9ed8-22b8179b327b",
   "metadata": {
    "execution": {
     "iopub.execute_input": "2024-06-22T20:12:16.652896Z",
     "iopub.status.busy": "2024-06-22T20:12:16.652896Z",
     "iopub.status.idle": "2024-06-22T20:12:16.936172Z",
     "shell.execute_reply": "2024-06-22T20:12:16.935220Z",
     "shell.execute_reply.started": "2024-06-22T20:12:16.652896Z"
    }
   },
   "outputs": [],
   "source": [
    "train.drop(labels=['plot_keywords', 'title_cast', 'director'], axis=1, inplace=True)"
   ]
  },
  {
   "cell_type": "code",
   "execution_count": 12,
   "id": "2d9c4b81-2c5d-461c-b802-68d266e4ef7d",
   "metadata": {
    "execution": {
     "iopub.execute_input": "2024-06-22T20:12:16.937171Z",
     "iopub.status.busy": "2024-06-22T20:12:16.937171Z",
     "iopub.status.idle": "2024-06-22T20:12:17.291923Z",
     "shell.execute_reply": "2024-06-22T20:12:17.291372Z",
     "shell.execute_reply.started": "2024-06-22T20:12:16.937171Z"
    }
   },
   "outputs": [
    {
     "data": {
      "text/html": [
       "<div>\n",
       "<style scoped>\n",
       "    .dataframe tbody tr th:only-of-type {\n",
       "        vertical-align: middle;\n",
       "    }\n",
       "\n",
       "    .dataframe tbody tr th {\n",
       "        vertical-align: top;\n",
       "    }\n",
       "\n",
       "    .dataframe thead th {\n",
       "        text-align: right;\n",
       "    }\n",
       "</style>\n",
       "<table border=\"1\" class=\"dataframe\">\n",
       "  <thead>\n",
       "    <tr style=\"text-align: right;\">\n",
       "      <th></th>\n",
       "      <th>movieId</th>\n",
       "      <th>relevance</th>\n",
       "    </tr>\n",
       "  </thead>\n",
       "  <tbody>\n",
       "    <tr>\n",
       "      <th>0</th>\n",
       "      <td>1</td>\n",
       "      <td>0.163382</td>\n",
       "    </tr>\n",
       "    <tr>\n",
       "      <th>1</th>\n",
       "      <td>2</td>\n",
       "      <td>0.122205</td>\n",
       "    </tr>\n",
       "  </tbody>\n",
       "</table>\n",
       "</div>"
      ],
      "text/plain": [
       "   movieId  relevance\n",
       "0        1   0.163382\n",
       "1        2   0.122205"
      ]
     },
     "execution_count": 12,
     "metadata": {},
     "output_type": "execute_result"
    }
   ],
   "source": [
    "# Calculate average relevance score for each movie\n",
    "genome_scores_avg = genome_scores.groupby(['movieId'])['relevance'].mean().reset_index()\n",
    "genome_scores_avg.head(2)"
   ]
  },
  {
   "cell_type": "code",
   "execution_count": 13,
   "id": "6c5964f8-6fce-4546-8480-e19c56598331",
   "metadata": {
    "execution": {
     "iopub.execute_input": "2024-06-22T20:12:17.293491Z",
     "iopub.status.busy": "2024-06-22T20:12:17.293379Z",
     "iopub.status.idle": "2024-06-22T20:12:18.573924Z",
     "shell.execute_reply": "2024-06-22T20:12:18.572915Z",
     "shell.execute_reply.started": "2024-06-22T20:12:17.293491Z"
    }
   },
   "outputs": [
    {
     "data": {
      "text/html": [
       "<div>\n",
       "<style scoped>\n",
       "    .dataframe tbody tr th:only-of-type {\n",
       "        vertical-align: middle;\n",
       "    }\n",
       "\n",
       "    .dataframe tbody tr th {\n",
       "        vertical-align: top;\n",
       "    }\n",
       "\n",
       "    .dataframe thead th {\n",
       "        text-align: right;\n",
       "    }\n",
       "</style>\n",
       "<table border=\"1\" class=\"dataframe\">\n",
       "  <thead>\n",
       "    <tr style=\"text-align: right;\">\n",
       "      <th></th>\n",
       "      <th>userId</th>\n",
       "      <th>movieId</th>\n",
       "      <th>rating</th>\n",
       "      <th>genres</th>\n",
       "      <th>runtime</th>\n",
       "      <th>budget_usd</th>\n",
       "      <th>relevance</th>\n",
       "    </tr>\n",
       "  </thead>\n",
       "  <tbody>\n",
       "    <tr>\n",
       "      <th>0</th>\n",
       "      <td>5163</td>\n",
       "      <td>57669</td>\n",
       "      <td>4.0</td>\n",
       "      <td>Comedy|Crime|Drama|Thriller</td>\n",
       "      <td>107.0</td>\n",
       "      <td>15000000.0</td>\n",
       "      <td>0.189406</td>\n",
       "    </tr>\n",
       "    <tr>\n",
       "      <th>1</th>\n",
       "      <td>106343</td>\n",
       "      <td>5</td>\n",
       "      <td>4.5</td>\n",
       "      <td>Comedy</td>\n",
       "      <td>106.0</td>\n",
       "      <td>30000000.0</td>\n",
       "      <td>0.093966</td>\n",
       "    </tr>\n",
       "  </tbody>\n",
       "</table>\n",
       "</div>"
      ],
      "text/plain": [
       "   userId  movieId  rating                       genres  runtime  budget_usd  \\\n",
       "0    5163    57669     4.0  Comedy|Crime|Drama|Thriller    107.0  15000000.0   \n",
       "1  106343        5     4.5                       Comedy    106.0  30000000.0   \n",
       "\n",
       "   relevance  \n",
       "0   0.189406  \n",
       "1   0.093966  "
      ]
     },
     "execution_count": 13,
     "metadata": {},
     "output_type": "execute_result"
    }
   ],
   "source": [
    "# Merge genome scores with train data on MovieId\n",
    "# Merge genome scores with train data on MovieId\n",
    "train = train.merge(genome_scores_avg, on='movieId', how='left')\n",
    "train.head(2)"
   ]
  },
  {
   "cell_type": "code",
   "execution_count": 14,
   "id": "911b57fe-2487-4cce-8005-a8a02b6bebda",
   "metadata": {
    "execution": {
     "iopub.execute_input": "2024-06-22T20:12:18.578954Z",
     "iopub.status.busy": "2024-06-22T20:12:18.578188Z",
     "iopub.status.idle": "2024-06-22T20:12:18.592234Z",
     "shell.execute_reply": "2024-06-22T20:12:18.591237Z",
     "shell.execute_reply.started": "2024-06-22T20:12:18.578954Z"
    }
   },
   "outputs": [
    {
     "data": {
      "text/html": [
       "<div>\n",
       "<style scoped>\n",
       "    .dataframe tbody tr th:only-of-type {\n",
       "        vertical-align: middle;\n",
       "    }\n",
       "\n",
       "    .dataframe tbody tr th {\n",
       "        vertical-align: top;\n",
       "    }\n",
       "\n",
       "    .dataframe thead th {\n",
       "        text-align: right;\n",
       "    }\n",
       "</style>\n",
       "<table border=\"1\" class=\"dataframe\">\n",
       "  <thead>\n",
       "    <tr style=\"text-align: right;\">\n",
       "      <th></th>\n",
       "      <th>userId</th>\n",
       "      <th>movieId</th>\n",
       "      <th>rating</th>\n",
       "      <th>genres</th>\n",
       "      <th>runtime</th>\n",
       "      <th>budget_usd</th>\n",
       "      <th>relevance</th>\n",
       "    </tr>\n",
       "  </thead>\n",
       "  <tbody>\n",
       "    <tr>\n",
       "      <th>0</th>\n",
       "      <td>5163</td>\n",
       "      <td>57669</td>\n",
       "      <td>4.0</td>\n",
       "      <td>Comedy|Crime|Drama|Thriller</td>\n",
       "      <td>107.0</td>\n",
       "      <td>15000000.0</td>\n",
       "      <td>0.189406</td>\n",
       "    </tr>\n",
       "    <tr>\n",
       "      <th>1</th>\n",
       "      <td>106343</td>\n",
       "      <td>5</td>\n",
       "      <td>4.5</td>\n",
       "      <td>Comedy</td>\n",
       "      <td>106.0</td>\n",
       "      <td>30000000.0</td>\n",
       "      <td>0.093966</td>\n",
       "    </tr>\n",
       "  </tbody>\n",
       "</table>\n",
       "</div>"
      ],
      "text/plain": [
       "   userId  movieId  rating                       genres  runtime  budget_usd  \\\n",
       "0    5163    57669     4.0  Comedy|Crime|Drama|Thriller    107.0  15000000.0   \n",
       "1  106343        5     4.5                       Comedy    106.0  30000000.0   \n",
       "\n",
       "   relevance  \n",
       "0   0.189406  \n",
       "1   0.093966  "
      ]
     },
     "execution_count": 14,
     "metadata": {},
     "output_type": "execute_result"
    }
   ],
   "source": [
    "# # Function to concatenate genres, title_cast, and director\n",
    "# def concatenate_columns(row):\n",
    "#     return f\"{row['genres']}|{row['plot_keywords']}|{row['title_cast']}|{row['director']}\"\n",
    "\n",
    "# # Apply the function to create the new column\n",
    "# train['combined'] = train.apply(concatenate_columns, axis=1)\n",
    "\n",
    "# Drop the original columns if needed\n",
    "train.head(2)"
   ]
  },
  {
   "cell_type": "code",
   "execution_count": 15,
   "id": "c9f2cabc-2484-482c-b2a8-78ab235925d2",
   "metadata": {
    "execution": {
     "iopub.execute_input": "2024-06-22T20:12:18.594234Z",
     "iopub.status.busy": "2024-06-22T20:12:18.593234Z",
     "iopub.status.idle": "2024-06-22T20:12:19.617566Z",
     "shell.execute_reply": "2024-06-22T20:12:19.616570Z",
     "shell.execute_reply.started": "2024-06-22T20:12:18.594234Z"
    }
   },
   "outputs": [
    {
     "data": {
      "text/html": [
       "<div>\n",
       "<style scoped>\n",
       "    .dataframe tbody tr th:only-of-type {\n",
       "        vertical-align: middle;\n",
       "    }\n",
       "\n",
       "    .dataframe tbody tr th {\n",
       "        vertical-align: top;\n",
       "    }\n",
       "\n",
       "    .dataframe thead th {\n",
       "        text-align: right;\n",
       "    }\n",
       "</style>\n",
       "<table border=\"1\" class=\"dataframe\">\n",
       "  <thead>\n",
       "    <tr style=\"text-align: right;\">\n",
       "      <th></th>\n",
       "      <th>userId</th>\n",
       "      <th>movieId</th>\n",
       "      <th>rating</th>\n",
       "      <th>genres</th>\n",
       "      <th>runtime</th>\n",
       "      <th>budget_usd</th>\n",
       "      <th>relevance</th>\n",
       "    </tr>\n",
       "  </thead>\n",
       "  <tbody>\n",
       "    <tr>\n",
       "      <th>0</th>\n",
       "      <td>5163</td>\n",
       "      <td>57669</td>\n",
       "      <td>4.0</td>\n",
       "      <td>Comedy|Crime|Drama|Thriller</td>\n",
       "      <td>-0.442324</td>\n",
       "      <td>-0.780901</td>\n",
       "      <td>0.189406</td>\n",
       "    </tr>\n",
       "    <tr>\n",
       "      <th>1</th>\n",
       "      <td>106343</td>\n",
       "      <td>5</td>\n",
       "      <td>4.5</td>\n",
       "      <td>Comedy</td>\n",
       "      <td>-0.485402</td>\n",
       "      <td>-0.474735</td>\n",
       "      <td>0.093966</td>\n",
       "    </tr>\n",
       "  </tbody>\n",
       "</table>\n",
       "</div>"
      ],
      "text/plain": [
       "   userId  movieId  rating                       genres   runtime  budget_usd  \\\n",
       "0    5163    57669     4.0  Comedy|Crime|Drama|Thriller -0.442324   -0.780901   \n",
       "1  106343        5     4.5                       Comedy -0.485402   -0.474735   \n",
       "\n",
       "   relevance  \n",
       "0   0.189406  \n",
       "1   0.093966  "
      ]
     },
     "execution_count": 15,
     "metadata": {},
     "output_type": "execute_result"
    }
   ],
   "source": [
    "scaler = StandardScaler()\n",
    "train[['runtime', 'budget_usd']] = scaler.fit_transform(train[['runtime', 'budget_usd']])\n",
    "train.head(2)"
   ]
  },
  {
   "cell_type": "code",
   "execution_count": 16,
   "id": "95de58ab-fc34-4339-a10f-40ce35b7fd85",
   "metadata": {
    "execution": {
     "iopub.execute_input": "2024-06-22T20:12:19.618572Z",
     "iopub.status.busy": "2024-06-22T20:12:19.618572Z",
     "iopub.status.idle": "2024-06-22T20:14:01.137743Z",
     "shell.execute_reply": "2024-06-22T20:14:01.136697Z",
     "shell.execute_reply.started": "2024-06-22T20:12:19.618572Z"
    }
   },
   "outputs": [],
   "source": [
    "# One-hot encode the genres\n",
    "genres_dummies = train.genres.str.lower().str.get_dummies(sep='|')\n",
    "train = pd.concat([train, genres_dummies], axis=1)"
   ]
  },
  {
   "cell_type": "code",
   "execution_count": 17,
   "id": "545b0250-73e5-48de-a1c0-2e64ce30011d",
   "metadata": {
    "execution": {
     "iopub.execute_input": "2024-06-22T20:14:01.139805Z",
     "iopub.status.busy": "2024-06-22T20:14:01.138780Z",
     "iopub.status.idle": "2024-06-22T20:14:01.150771Z",
     "shell.execute_reply": "2024-06-22T20:14:01.148759Z",
     "shell.execute_reply.started": "2024-06-22T20:14:01.139805Z"
    }
   },
   "outputs": [],
   "source": [
    "# Rename the column '(no genres listed)' to 'None'\n",
    "train.rename(columns={'(no genres listed)': 'None'}, inplace=True)"
   ]
  },
  {
   "cell_type": "code",
   "execution_count": 18,
   "id": "55094776-df99-417b-a0f4-89f8cd10af15",
   "metadata": {
    "execution": {
     "iopub.execute_input": "2024-06-22T20:14:01.153772Z",
     "iopub.status.busy": "2024-06-22T20:14:01.152773Z",
     "iopub.status.idle": "2024-06-22T20:14:13.586766Z",
     "shell.execute_reply": "2024-06-22T20:14:13.585757Z",
     "shell.execute_reply.started": "2024-06-22T20:14:01.153772Z"
    }
   },
   "outputs": [
    {
     "data": {
      "text/html": [
       "<div>\n",
       "<style scoped>\n",
       "    .dataframe tbody tr th:only-of-type {\n",
       "        vertical-align: middle;\n",
       "    }\n",
       "\n",
       "    .dataframe tbody tr th {\n",
       "        vertical-align: top;\n",
       "    }\n",
       "\n",
       "    .dataframe thead th {\n",
       "        text-align: right;\n",
       "    }\n",
       "</style>\n",
       "<table border=\"1\" class=\"dataframe\">\n",
       "  <thead>\n",
       "    <tr style=\"text-align: right;\">\n",
       "      <th></th>\n",
       "      <th>userId</th>\n",
       "      <th>movieId</th>\n",
       "      <th>rating</th>\n",
       "      <th>genres</th>\n",
       "      <th>runtime</th>\n",
       "      <th>budget_usd</th>\n",
       "      <th>relevance</th>\n",
       "      <th>None</th>\n",
       "      <th>action</th>\n",
       "      <th>adventure</th>\n",
       "      <th>...</th>\n",
       "      <th>film-noir</th>\n",
       "      <th>horror</th>\n",
       "      <th>imax</th>\n",
       "      <th>musical</th>\n",
       "      <th>mystery</th>\n",
       "      <th>romance</th>\n",
       "      <th>sci-fi</th>\n",
       "      <th>thriller</th>\n",
       "      <th>war</th>\n",
       "      <th>western</th>\n",
       "    </tr>\n",
       "  </thead>\n",
       "  <tbody>\n",
       "    <tr>\n",
       "      <th>0</th>\n",
       "      <td>5163</td>\n",
       "      <td>57669</td>\n",
       "      <td>4.0</td>\n",
       "      <td>Comedy|Crime|Drama|Thriller</td>\n",
       "      <td>-0.442324</td>\n",
       "      <td>-0.780901</td>\n",
       "      <td>0.189406</td>\n",
       "      <td>0</td>\n",
       "      <td>0</td>\n",
       "      <td>0</td>\n",
       "      <td>...</td>\n",
       "      <td>0</td>\n",
       "      <td>0</td>\n",
       "      <td>0</td>\n",
       "      <td>0</td>\n",
       "      <td>0</td>\n",
       "      <td>0</td>\n",
       "      <td>0</td>\n",
       "      <td>1</td>\n",
       "      <td>0</td>\n",
       "      <td>0</td>\n",
       "    </tr>\n",
       "    <tr>\n",
       "      <th>1</th>\n",
       "      <td>106343</td>\n",
       "      <td>5</td>\n",
       "      <td>4.5</td>\n",
       "      <td>Comedy</td>\n",
       "      <td>-0.485402</td>\n",
       "      <td>-0.474735</td>\n",
       "      <td>0.093966</td>\n",
       "      <td>0</td>\n",
       "      <td>0</td>\n",
       "      <td>0</td>\n",
       "      <td>...</td>\n",
       "      <td>0</td>\n",
       "      <td>0</td>\n",
       "      <td>0</td>\n",
       "      <td>0</td>\n",
       "      <td>0</td>\n",
       "      <td>0</td>\n",
       "      <td>0</td>\n",
       "      <td>0</td>\n",
       "      <td>0</td>\n",
       "      <td>0</td>\n",
       "    </tr>\n",
       "  </tbody>\n",
       "</table>\n",
       "<p>2 rows × 27 columns</p>\n",
       "</div>"
      ],
      "text/plain": [
       "   userId  movieId  rating                       genres   runtime  budget_usd  \\\n",
       "0    5163    57669     4.0  Comedy|Crime|Drama|Thriller -0.442324   -0.780901   \n",
       "1  106343        5     4.5                       Comedy -0.485402   -0.474735   \n",
       "\n",
       "   relevance  None  action  adventure  ...  film-noir  horror  imax  musical  \\\n",
       "0   0.189406     0       0          0  ...          0       0     0        0   \n",
       "1   0.093966     0       0          0  ...          0       0     0        0   \n",
       "\n",
       "   mystery  romance  sci-fi  thriller  war  western  \n",
       "0        0        0       0         1    0        0  \n",
       "1        0        0       0         0    0        0  \n",
       "\n",
       "[2 rows x 27 columns]"
      ]
     },
     "execution_count": 18,
     "metadata": {},
     "output_type": "execute_result"
    }
   ],
   "source": [
    "# Fill Null values with the corresponding mean of the column\n",
    "train = train.fillna(train.mean(numeric_only=True))\n",
    "train.head(2)"
   ]
  },
  {
   "cell_type": "code",
   "execution_count": 19,
   "id": "efea7cf6-5c87-473b-a05a-4e630ebda0df",
   "metadata": {
    "execution": {
     "iopub.execute_input": "2024-06-22T20:14:13.591765Z",
     "iopub.status.busy": "2024-06-22T20:14:13.590767Z",
     "iopub.status.idle": "2024-06-22T20:14:15.939261Z",
     "shell.execute_reply": "2024-06-22T20:14:15.938221Z",
     "shell.execute_reply.started": "2024-06-22T20:14:13.590767Z"
    }
   },
   "outputs": [
    {
     "data": {
      "text/html": [
       "<div>\n",
       "<style scoped>\n",
       "    .dataframe tbody tr th:only-of-type {\n",
       "        vertical-align: middle;\n",
       "    }\n",
       "\n",
       "    .dataframe tbody tr th {\n",
       "        vertical-align: top;\n",
       "    }\n",
       "\n",
       "    .dataframe thead th {\n",
       "        text-align: right;\n",
       "    }\n",
       "</style>\n",
       "<table border=\"1\" class=\"dataframe\">\n",
       "  <thead>\n",
       "    <tr style=\"text-align: right;\">\n",
       "      <th>rating</th>\n",
       "      <th>0.5</th>\n",
       "      <th>1.0</th>\n",
       "      <th>1.5</th>\n",
       "      <th>2.0</th>\n",
       "      <th>2.5</th>\n",
       "      <th>3.0</th>\n",
       "      <th>3.5</th>\n",
       "      <th>4.0</th>\n",
       "      <th>4.5</th>\n",
       "      <th>5.0</th>\n",
       "    </tr>\n",
       "    <tr>\n",
       "      <th>userId</th>\n",
       "      <th></th>\n",
       "      <th></th>\n",
       "      <th></th>\n",
       "      <th></th>\n",
       "      <th></th>\n",
       "      <th></th>\n",
       "      <th></th>\n",
       "      <th></th>\n",
       "      <th></th>\n",
       "      <th></th>\n",
       "    </tr>\n",
       "  </thead>\n",
       "  <tbody>\n",
       "    <tr>\n",
       "      <th>1</th>\n",
       "      <td>0</td>\n",
       "      <td>1</td>\n",
       "      <td>0</td>\n",
       "      <td>0</td>\n",
       "      <td>2</td>\n",
       "      <td>4</td>\n",
       "      <td>5</td>\n",
       "      <td>3</td>\n",
       "      <td>6</td>\n",
       "      <td>7</td>\n",
       "    </tr>\n",
       "    <tr>\n",
       "      <th>2</th>\n",
       "      <td>5</td>\n",
       "      <td>5</td>\n",
       "      <td>3</td>\n",
       "      <td>6</td>\n",
       "      <td>2</td>\n",
       "      <td>8</td>\n",
       "      <td>8</td>\n",
       "      <td>5</td>\n",
       "      <td>10</td>\n",
       "      <td>20</td>\n",
       "    </tr>\n",
       "  </tbody>\n",
       "</table>\n",
       "</div>"
      ],
      "text/plain": [
       "rating  0.5  1.0  1.5  2.0  2.5  3.0  3.5  4.0  4.5  5.0\n",
       "userId                                                  \n",
       "1         0    1    0    0    2    4    5    3    6    7\n",
       "2         5    5    3    6    2    8    8    5   10   20"
      ]
     },
     "execution_count": 19,
     "metadata": {},
     "output_type": "execute_result"
    }
   ],
   "source": [
    "# Count ratings per user\n",
    "# Count ratings per user\n",
    "user_rating_counts = train.groupby(by=['userId', 'rating']).size().unstack(fill_value=0)\n",
    "user_rating_counts.head(2)"
   ]
  },
  {
   "cell_type": "code",
   "execution_count": 20,
   "id": "59984a5e-89fa-4a4d-b6cc-4e6a18287161",
   "metadata": {
    "execution": {
     "iopub.execute_input": "2024-06-22T20:14:15.941422Z",
     "iopub.status.busy": "2024-06-22T20:14:15.940466Z",
     "iopub.status.idle": "2024-06-22T20:14:16.628464Z",
     "shell.execute_reply": "2024-06-22T20:14:16.627505Z",
     "shell.execute_reply.started": "2024-06-22T20:14:15.941422Z"
    }
   },
   "outputs": [
    {
     "data": {
      "text/html": [
       "<div>\n",
       "<style scoped>\n",
       "    .dataframe tbody tr th:only-of-type {\n",
       "        vertical-align: middle;\n",
       "    }\n",
       "\n",
       "    .dataframe tbody tr th {\n",
       "        vertical-align: top;\n",
       "    }\n",
       "\n",
       "    .dataframe thead th {\n",
       "        text-align: right;\n",
       "    }\n",
       "</style>\n",
       "<table border=\"1\" class=\"dataframe\">\n",
       "  <thead>\n",
       "    <tr style=\"text-align: right;\">\n",
       "      <th></th>\n",
       "      <th>userId</th>\n",
       "      <th>relevance</th>\n",
       "    </tr>\n",
       "  </thead>\n",
       "  <tbody>\n",
       "    <tr>\n",
       "      <th>0</th>\n",
       "      <td>1</td>\n",
       "      <td>0.149016</td>\n",
       "    </tr>\n",
       "    <tr>\n",
       "      <th>1</th>\n",
       "      <td>2</td>\n",
       "      <td>0.143294</td>\n",
       "    </tr>\n",
       "  </tbody>\n",
       "</table>\n",
       "</div>"
      ],
      "text/plain": [
       "   userId  relevance\n",
       "0       1   0.149016\n",
       "1       2   0.143294"
      ]
     },
     "execution_count": 20,
     "metadata": {},
     "output_type": "execute_result"
    }
   ],
   "source": [
    "# Calculate average relevance score per user\n",
    "user_relevance_avg = train.groupby('userId')['relevance'].mean().reset_index()\n",
    "user_relevance_avg.head(2)"
   ]
  },
  {
   "cell_type": "code",
   "execution_count": 21,
   "id": "092055c0-8810-4810-843c-b31ba934b375",
   "metadata": {
    "execution": {
     "iopub.execute_input": "2024-06-22T20:14:16.630214Z",
     "iopub.status.busy": "2024-06-22T20:14:16.629647Z",
     "iopub.status.idle": "2024-06-22T20:14:16.713789Z",
     "shell.execute_reply": "2024-06-22T20:14:16.712749Z",
     "shell.execute_reply.started": "2024-06-22T20:14:16.630214Z"
    }
   },
   "outputs": [
    {
     "data": {
      "text/html": [
       "<div>\n",
       "<style scoped>\n",
       "    .dataframe tbody tr th:only-of-type {\n",
       "        vertical-align: middle;\n",
       "    }\n",
       "\n",
       "    .dataframe tbody tr th {\n",
       "        vertical-align: top;\n",
       "    }\n",
       "\n",
       "    .dataframe thead th {\n",
       "        text-align: right;\n",
       "    }\n",
       "</style>\n",
       "<table border=\"1\" class=\"dataframe\">\n",
       "  <thead>\n",
       "    <tr style=\"text-align: right;\">\n",
       "      <th></th>\n",
       "      <th>userId</th>\n",
       "      <th>0.5</th>\n",
       "      <th>1.0</th>\n",
       "      <th>1.5</th>\n",
       "      <th>2.0</th>\n",
       "      <th>2.5</th>\n",
       "      <th>3.0</th>\n",
       "      <th>3.5</th>\n",
       "      <th>4.0</th>\n",
       "      <th>4.5</th>\n",
       "      <th>5.0</th>\n",
       "      <th>relevance</th>\n",
       "    </tr>\n",
       "  </thead>\n",
       "  <tbody>\n",
       "    <tr>\n",
       "      <th>0</th>\n",
       "      <td>1</td>\n",
       "      <td>0</td>\n",
       "      <td>1</td>\n",
       "      <td>0</td>\n",
       "      <td>0</td>\n",
       "      <td>2</td>\n",
       "      <td>4</td>\n",
       "      <td>5</td>\n",
       "      <td>3</td>\n",
       "      <td>6</td>\n",
       "      <td>7</td>\n",
       "      <td>0.149016</td>\n",
       "    </tr>\n",
       "    <tr>\n",
       "      <th>1</th>\n",
       "      <td>2</td>\n",
       "      <td>5</td>\n",
       "      <td>5</td>\n",
       "      <td>3</td>\n",
       "      <td>6</td>\n",
       "      <td>2</td>\n",
       "      <td>8</td>\n",
       "      <td>8</td>\n",
       "      <td>5</td>\n",
       "      <td>10</td>\n",
       "      <td>20</td>\n",
       "      <td>0.143294</td>\n",
       "    </tr>\n",
       "  </tbody>\n",
       "</table>\n",
       "</div>"
      ],
      "text/plain": [
       "   userId  0.5  1.0  1.5  2.0  2.5  3.0  3.5  4.0  4.5  5.0  relevance\n",
       "0       1    0    1    0    0    2    4    5    3    6    7   0.149016\n",
       "1       2    5    5    3    6    2    8    8    5   10   20   0.143294"
      ]
     },
     "execution_count": 21,
     "metadata": {},
     "output_type": "execute_result"
    }
   ],
   "source": [
    "# Merge average relevance scores with user rating counts\n",
    "# Merge average relevance scores with user rating counts\n",
    "user_data = user_rating_counts.merge(user_relevance_avg, on='userId')\n",
    "user_data.dropna(inplace=True)\n",
    "user_data.head(2)"
   ]
  },
  {
   "cell_type": "code",
   "execution_count": 22,
   "id": "b3fead26-8de4-4df2-94f3-a3cdb85cf948",
   "metadata": {
    "execution": {
     "iopub.execute_input": "2024-06-22T20:14:16.714757Z",
     "iopub.status.busy": "2024-06-22T20:14:16.714757Z",
     "iopub.status.idle": "2024-06-22T20:14:21.282292Z",
     "shell.execute_reply": "2024-06-22T20:14:21.281193Z",
     "shell.execute_reply.started": "2024-06-22T20:14:16.714757Z"
    }
   },
   "outputs": [
    {
     "data": {
      "text/html": [
       "<div>\n",
       "<style scoped>\n",
       "    .dataframe tbody tr th:only-of-type {\n",
       "        vertical-align: middle;\n",
       "    }\n",
       "\n",
       "    .dataframe tbody tr th {\n",
       "        vertical-align: top;\n",
       "    }\n",
       "\n",
       "    .dataframe thead th {\n",
       "        text-align: right;\n",
       "    }\n",
       "</style>\n",
       "<table border=\"1\" class=\"dataframe\">\n",
       "  <thead>\n",
       "    <tr style=\"text-align: right;\">\n",
       "      <th></th>\n",
       "      <th>userId</th>\n",
       "      <th>movieId</th>\n",
       "      <th>rating</th>\n",
       "      <th>genres</th>\n",
       "      <th>runtime</th>\n",
       "      <th>budget_usd</th>\n",
       "      <th>relevance</th>\n",
       "      <th>None</th>\n",
       "      <th>action</th>\n",
       "      <th>adventure</th>\n",
       "      <th>...</th>\n",
       "      <th>horror</th>\n",
       "      <th>imax</th>\n",
       "      <th>musical</th>\n",
       "      <th>mystery</th>\n",
       "      <th>romance</th>\n",
       "      <th>sci-fi</th>\n",
       "      <th>thriller</th>\n",
       "      <th>war</th>\n",
       "      <th>western</th>\n",
       "      <th>cluster</th>\n",
       "    </tr>\n",
       "  </thead>\n",
       "  <tbody>\n",
       "    <tr>\n",
       "      <th>0</th>\n",
       "      <td>5163</td>\n",
       "      <td>57669</td>\n",
       "      <td>4.0</td>\n",
       "      <td>Comedy|Crime|Drama|Thriller</td>\n",
       "      <td>-0.442324</td>\n",
       "      <td>-0.780901</td>\n",
       "      <td>0.189406</td>\n",
       "      <td>0</td>\n",
       "      <td>0</td>\n",
       "      <td>0</td>\n",
       "      <td>...</td>\n",
       "      <td>0</td>\n",
       "      <td>0</td>\n",
       "      <td>0</td>\n",
       "      <td>0</td>\n",
       "      <td>0</td>\n",
       "      <td>0</td>\n",
       "      <td>1</td>\n",
       "      <td>0</td>\n",
       "      <td>0</td>\n",
       "      <td>0</td>\n",
       "    </tr>\n",
       "    <tr>\n",
       "      <th>1</th>\n",
       "      <td>106343</td>\n",
       "      <td>5</td>\n",
       "      <td>4.5</td>\n",
       "      <td>Comedy</td>\n",
       "      <td>-0.485402</td>\n",
       "      <td>-0.474735</td>\n",
       "      <td>0.093966</td>\n",
       "      <td>0</td>\n",
       "      <td>0</td>\n",
       "      <td>0</td>\n",
       "      <td>...</td>\n",
       "      <td>0</td>\n",
       "      <td>0</td>\n",
       "      <td>0</td>\n",
       "      <td>0</td>\n",
       "      <td>0</td>\n",
       "      <td>0</td>\n",
       "      <td>0</td>\n",
       "      <td>0</td>\n",
       "      <td>0</td>\n",
       "      <td>2</td>\n",
       "    </tr>\n",
       "  </tbody>\n",
       "</table>\n",
       "<p>2 rows × 28 columns</p>\n",
       "</div>"
      ],
      "text/plain": [
       "   userId  movieId  rating                       genres   runtime  budget_usd  \\\n",
       "0    5163    57669     4.0  Comedy|Crime|Drama|Thriller -0.442324   -0.780901   \n",
       "1  106343        5     4.5                       Comedy -0.485402   -0.474735   \n",
       "\n",
       "   relevance  None  action  adventure  ...  horror  imax  musical  mystery  \\\n",
       "0   0.189406     0       0          0  ...       0     0        0        0   \n",
       "1   0.093966     0       0          0  ...       0     0        0        0   \n",
       "\n",
       "   romance  sci-fi  thriller  war  western  cluster  \n",
       "0        0       0         1    0        0        0  \n",
       "1        0       0         0    0        0        2  \n",
       "\n",
       "[2 rows x 28 columns]"
      ]
     },
     "execution_count": 22,
     "metadata": {},
     "output_type": "execute_result"
    }
   ],
   "source": [
    "# Cluster Raters\n",
    "# Prepare data for K-means clustering\n",
    "# Prepare data for K-means clustering\n",
    "X = user_data.drop('userId', axis=1).values\n",
    "\n",
    "# Apply K-means clustering to identify user types\n",
    "# Apply K-means clustering to identify user types\n",
    "kmeans = KMeans(n_clusters=3, random_state=42, algorithm='elkan')\n",
    "user_clusters = kmeans.fit_predict(X)\n",
    "user_clusters\n",
    "\n",
    "# Add cluster labels to the DataFrame\n",
    "user_data['cluster'] = user_clusters\n",
    "\n",
    "# Merge the cluster labels back with the original dataframe\n",
    "train_with_clusters = train.merge(user_data[['userId', 'cluster']], on='userId')\n",
    "train_with_clusters.head(2)"
   ]
  },
  {
   "cell_type": "code",
   "execution_count": 23,
   "id": "79b6e09f-6a2f-4ac6-8e4b-147d067623a5",
   "metadata": {
    "execution": {
     "iopub.execute_input": "2024-06-22T20:14:21.285318Z",
     "iopub.status.busy": "2024-06-22T20:14:21.284335Z",
     "iopub.status.idle": "2024-06-22T20:14:32.494914Z",
     "shell.execute_reply": "2024-06-22T20:14:32.493906Z",
     "shell.execute_reply.started": "2024-06-22T20:14:21.285318Z"
    }
   },
   "outputs": [
    {
     "data": {
      "image/png": "[encoded data removed]",
      "text/plain": [
       "<Figure size 1000x800 with 4 Axes>"
      ]
     },
     "metadata": {},
     "output_type": "display_data"
    }
   ],
   "source": [
    "# Visualize the clusters\n",
    "# Visualize the clusters\n",
    "num_clusters = np.unique(user_clusters)\n",
    "fig, axes = plt.subplots(2, 2, figsize=(10,8), sharey=True)\n",
    "axes_flat = axes.flatten()\n",
    "for i in num_clusters:\n",
    "    type_rater = {1: 'Normal', 2: 'Tough', 0: 'Easy'}\n",
    "    axes_flat[i].set_title(f'{type_rater[i]} Raters type - cluster = {i}')\n",
    "    axes_flat[i].set_xlabel('Ratings')\n",
    "    sns.histplot(train_with_clusters[train_with_clusters.cluster == i].rating, discrete=True, ax=axes_flat[i])\n",
    "plt.tight_layout()"
   ]
  },
  {
   "cell_type": "code",
   "execution_count": 24,
   "id": "8a0e23ff-18c3-468e-bb5c-f746bf1c39b6",
   "metadata": {
    "execution": {
     "iopub.execute_input": "2024-06-22T20:14:32.495914Z",
     "iopub.status.busy": "2024-06-22T20:14:32.495914Z",
     "iopub.status.idle": "2024-06-22T20:14:32.503398Z",
     "shell.execute_reply": "2024-06-22T20:14:32.502401Z",
     "shell.execute_reply.started": "2024-06-22T20:14:32.495914Z"
    }
   },
   "outputs": [
    {
     "name": "stdout",
     "output_type": "stream",
     "text": [
      "Train size: 10,000,038\n",
      "We will only work with 60% of Train size: 100,000\n"
     ]
    }
   ],
   "source": [
    "# Limit training Dataset\n",
    "print(f\"Train size: {train_with_clusters.shape[0]:,}\")\n",
    "print(f\"We will only work with 60% of Train size: {int( 0.01 * train_with_clusters.shape[0]):,}\")"
   ]
  },
  {
   "cell_type": "code",
   "execution_count": 25,
   "id": "93b83bad-b11f-44d8-b72f-ba27d64c67d9",
   "metadata": {
    "execution": {
     "iopub.execute_input": "2024-06-22T20:14:32.505398Z",
     "iopub.status.busy": "2024-06-22T20:14:32.505398Z",
     "iopub.status.idle": "2024-06-22T20:14:33.148140Z",
     "shell.execute_reply": "2024-06-22T20:14:33.147033Z",
     "shell.execute_reply.started": "2024-06-22T20:14:32.505398Z"
    }
   },
   "outputs": [],
   "source": [
    "#train_with_clusters = train.merge(user_data[['userId', 'cluster']], on='userId')\n",
    "\n",
    "# Sample a subset of the training data to minimize size\n",
    "train_small = train_with_clusters.sample(frac=0.001, random_state=42)"
   ]
  },
  {
   "cell_type": "code",
   "execution_count": 26,
   "id": "e089b749-6af8-4f48-975a-9a9ee63f84a6",
   "metadata": {
    "execution": {
     "iopub.execute_input": "2024-06-22T20:14:33.149044Z",
     "iopub.status.busy": "2024-06-22T20:14:33.149044Z",
     "iopub.status.idle": "2024-06-22T20:14:33.159619Z",
     "shell.execute_reply": "2024-06-22T20:14:33.158610Z",
     "shell.execute_reply.started": "2024-06-22T20:14:33.149044Z"
    }
   },
   "outputs": [],
   "source": [
    "# Split the training data into three groups based on clusters\n",
    "easy_raters = train_small[train_small['cluster'] == 0]\n",
    "normal_raters = train_small[train_small['cluster'] == 1]\n",
    "tough_raters = train_small[train_small['cluster'] == 2]"
   ]
  },
  {
   "cell_type": "code",
   "execution_count": 27,
   "id": "6ef9d762-93e7-4b88-b4d2-030333326631",
   "metadata": {
    "execution": {
     "iopub.execute_input": "2024-06-22T20:14:33.161620Z",
     "iopub.status.busy": "2024-06-22T20:14:33.160619Z",
     "iopub.status.idle": "2024-06-22T20:14:33.169772Z",
     "shell.execute_reply": "2024-06-22T20:14:33.168762Z",
     "shell.execute_reply.started": "2024-06-22T20:14:33.161620Z"
    }
   },
   "outputs": [
    {
     "name": "stdout",
     "output_type": "stream",
     "text": [
      "Easy Raters dataset size: 4,805\n",
      "Normal Raters dataset size: 1,384\n",
      "Tough Raters dataset size: 3,811\n"
     ]
    }
   ],
   "source": [
    "# Prepare data for Surprise\n",
    "reader = Reader(rating_scale=(0, 5))\n",
    "\n",
    "print(f\"Easy Raters dataset size: {easy_raters.shape[0]:,}\")\n",
    "print(f\"Normal Raters dataset size: {normal_raters.shape[0]:,}\")\n",
    "print(f\"Tough Raters dataset size: {tough_raters.shape[0]:,}\")"
   ]
  },
  {
   "cell_type": "code",
   "execution_count": 28,
   "id": "983823e1-e539-4da5-a01b-30ae85735ab7",
   "metadata": {
    "execution": {
     "iopub.execute_input": "2024-06-22T20:14:33.172774Z",
     "iopub.status.busy": "2024-06-22T20:14:33.171774Z",
     "iopub.status.idle": "2024-06-22T20:14:33.181132Z",
     "shell.execute_reply": "2024-06-22T20:14:33.180123Z",
     "shell.execute_reply.started": "2024-06-22T20:14:33.172774Z"
    }
   },
   "outputs": [],
   "source": [
    "# Collaborative filtering\n",
    "# train and predict for each user type\n",
    "# Function to train and predict for each user type using collaborative filtering\n",
    "def train_and_predict(df):\n",
    "    \"\"\"\n",
    "    Train a collaborative filtering model and make predictions.\n",
    "    Args:\n",
    "        df: DataFrame with user ratings.\n",
    "    Returns:\n",
    "        List: Predictions from the collaborative filtering model.\n",
    "    \"\"\"\n",
    "    data = Dataset.load_from_df(df[['userId', 'movieId', 'rating']], reader)\n",
    "    trainset = data.build_full_trainset()\n",
    "\n",
    "    # Train the collaborative filtering model\n",
    "    sim_options = {'name': 'cosine', 'user_based': True}\n",
    "    algo = KNNBasic(k=10, min_k=1, sim_options=sim_options)\n",
    "    algo.fit(trainset)\n",
    "\n",
    "    # Make predictions for each user in the test set\n",
    "    testset = trainset.build_testset()\n",
    "    predictions = algo.test(testset)\n",
    "\n",
    "    return predictions"
   ]
  },
  {
   "cell_type": "code",
   "execution_count": 29,
   "id": "cfe6908b-451d-452c-90cf-df7b985383d8",
   "metadata": {
    "execution": {
     "iopub.execute_input": "2024-06-22T20:14:33.183218Z",
     "iopub.status.busy": "2024-06-22T20:14:33.182134Z",
     "iopub.status.idle": "2024-06-22T20:14:33.191844Z",
     "shell.execute_reply": "2024-06-22T20:14:33.190538Z",
     "shell.execute_reply.started": "2024-06-22T20:14:33.183218Z"
    }
   },
   "outputs": [],
   "source": [
    "#create DataFrame from predictions\n",
    "# Function to create DataFrame from predictions\n",
    "def create_results(predictions):\n",
    "    \"\"\"\n",
    "    Creates a DataFrame from predictions.\n",
    "    Args:\n",
    "        predictions: List of Prediction objects from Surprise.\n",
    "    Returns:\n",
    "        pd.DataFrame: DataFrame of predictions.\n",
    "    \"\"\"\n",
    "    results = []\n",
    "    for pred in predictions:\n",
    "        results.append({\n",
    "            'user_id': pred.uid,\n",
    "            'movie_id': pred.iid,\n",
    "            'predicted_rating': pred.est,\n",
    "            'true_rating': pred.r_ui\n",
    "        })\n",
    "    return pd.DataFrame(results)"
   ]
  },
  {
   "cell_type": "code",
   "execution_count": 30,
   "id": "2f3b2f2c-b6de-428f-8c9b-792e2a5c22b8",
   "metadata": {
    "execution": {
     "iopub.execute_input": "2024-06-22T20:14:33.194551Z",
     "iopub.status.busy": "2024-06-22T20:14:33.193549Z",
     "iopub.status.idle": "2024-06-22T20:14:33.821112Z",
     "shell.execute_reply": "2024-06-22T20:14:33.820133Z",
     "shell.execute_reply.started": "2024-06-22T20:14:33.194551Z"
    }
   },
   "outputs": [
    {
     "name": "stdout",
     "output_type": "stream",
     "text": [
      "Predictions for EasyRaters:\n",
      "Computing the cosine similarity matrix...\n",
      "Done computing similarity matrix.\n",
      "Predictions for ToughRaters:\n",
      "Computing the cosine similarity matrix...\n",
      "Done computing similarity matrix.\n",
      "Predictions for NormalRaters:\n",
      "Computing the cosine similarity matrix...\n",
      "Done computing similarity matrix.\n"
     ]
    }
   ],
   "source": [
    "# Train and predict for each cluster\n",
    "# EasyRaters\n",
    "# Train and predict for each cluster\n",
    "print(\"Predictions for EasyRaters:\")\n",
    "easy_predictions_cf = train_and_predict(easy_raters)\n",
    "\n",
    "# ToughRaters\n",
    "print(\"Predictions for ToughRaters:\")\n",
    "tough_predictions_cf = train_and_predict(tough_raters)\n",
    "\n",
    "# NormalRaters\n",
    "print(\"Predictions for NormalRaters:\")\n",
    "normal_predictions_cf = train_and_predict(normal_raters)"
   ]
  },
  {
   "cell_type": "code",
   "execution_count": 34,
   "id": "6771ff71-6dfd-4bcb-98e9-a6b063a7904c",
   "metadata": {
    "execution": {
     "iopub.execute_input": "2024-06-22T20:20:13.548172Z",
     "iopub.status.busy": "2024-06-22T20:20:13.547171Z",
     "iopub.status.idle": "2024-06-22T20:20:13.590668Z",
     "shell.execute_reply": "2024-06-22T20:20:13.589138Z",
     "shell.execute_reply.started": "2024-06-22T20:20:13.548172Z"
    }
   },
   "outputs": [
    {
     "name": "stdout",
     "output_type": "stream",
     "text": [
      "Results for EasyRaters:\n",
      "   user_id  movie_id  predicted_rating  true_rating\n",
      "0   122380     31445              2.50          2.5\n",
      "1    64877      6874              4.30          4.0\n",
      "2    63164      2762              3.55          5.0\n",
      "3    78757      4589              4.00          4.0\n",
      "4    88427      1196              4.45          5.0\n",
      "\n",
      "Results for ToughRaters:\n",
      "   user_id  movie_id  predicted_rating  true_rating\n",
      "0    22380     56775          3.833333          4.0\n",
      "1   104339       356          3.312500          2.5\n",
      "2    79382     72733          3.000000          4.0\n",
      "3    35374      7090          2.500000          0.5\n",
      "4    35374      4404          5.000000          5.0\n",
      "\n",
      "Results for NormalRaters:\n",
      "   user_id  movie_id  predicted_rating  true_rating\n",
      "0   140578      4305               4.0          4.0\n",
      "1    80252      1870               4.0          4.0\n",
      "2    55828      1731               1.5          1.5\n",
      "3   151793     79897               3.5          3.5\n",
      "4   151793     46967               3.5          3.5\n",
      "\n",
      "Evaluation Results:\n",
      "On Easy Raters:\n",
      "RMSE: 0.7628\n",
      "\n",
      "On Tough Raters:\n",
      "RMSE: 0.5882\n",
      "\n",
      "On Normal Raters:\n",
      "RMSE: 0.2828\n"
     ]
    }
   ],
   "source": [
    "# Results for each cluster\n",
    "# EasyRaters\n",
    "# Print results for each cluster\n",
    "print(\"Results for EasyRaters:\")\n",
    "print(create_results(easy_predictions_cf).head())\n",
    "\n",
    "# ToughRaters\n",
    "print(\"\\nResults for ToughRaters:\")\n",
    "print(create_results(tough_predictions_cf).head())\n",
    "\n",
    "# NormalRaters\n",
    "print(\"\\nResults for NormalRaters:\")\n",
    "print(create_results(normal_predictions_cf).head())\n",
    "\n",
    "# Evaluating Results\n",
    "print(\"\\nEvaluation Results:\")\n",
    "print('On Easy Raters:')\n",
    "accuracy.rmse(easy_predictions_cf)\n",
    "print('\\nOn Tough Raters:')\n",
    "accuracy.rmse(tough_predictions_cf)\n",
    "print('\\nOn Normal Raters:')\n",
    "accuracy.rmse(normal_predictions_cf);"
   ]
  },
  {
   "cell_type": "code",
   "execution_count": 50,
   "id": "71b6f533-65f1-4cfa-b112-f66a29fde823",
   "metadata": {
    "execution": {
     "iopub.execute_input": "2024-06-22T20:35:54.483201Z",
     "iopub.status.busy": "2024-06-22T20:35:54.482202Z",
     "iopub.status.idle": "2024-06-22T20:35:55.207610Z",
     "shell.execute_reply": "2024-06-22T20:35:55.207610Z",
     "shell.execute_reply.started": "2024-06-22T20:35:54.483201Z"
    }
   },
   "outputs": [],
   "source": [
    "# Now, use the trained model to predict ratings for the test file. \n",
    "# 1. Load the test data.\n",
    "test_data = pd.read_csv(test_link)\n",
    "\n",
    "# 2. Create a dataframe to store predictions.\n",
    "predictions_df = pd.DataFrame(columns=['Id', 'rating'])"
   ]
  },
  {
   "cell_type": "code",
   "execution_count": 51,
   "id": "5d18a83f-5bfc-486d-b8b5-730e79eaeb9c",
   "metadata": {
    "execution": {
     "iopub.execute_input": "2024-06-22T20:35:58.743509Z",
     "iopub.status.busy": "2024-06-22T20:35:58.742714Z",
     "iopub.status.idle": "2024-06-22T20:35:58.747888Z",
     "shell.execute_reply": "2024-06-22T20:35:58.747155Z",
     "shell.execute_reply.started": "2024-06-22T20:35:58.743509Z"
    }
   },
   "outputs": [],
   "source": [
    "# test_data = test_data.sample(frac=0.01, random_state=42)"
   ]
  },
  {
   "cell_type": "code",
   "execution_count": 52,
   "id": "d17f13f7-8146-4dba-af26-f114b1824ba8",
   "metadata": {
    "execution": {
     "iopub.execute_input": "2024-06-22T20:36:06.156311Z",
     "iopub.status.busy": "2024-06-22T20:36:06.155105Z",
     "iopub.status.idle": "2024-06-22T20:36:06.200305Z",
     "shell.execute_reply": "2024-06-22T20:36:06.198985Z",
     "shell.execute_reply.started": "2024-06-22T20:36:06.156311Z"
    }
   },
   "outputs": [],
   "source": [
    "# Define the rating scale\n",
    "reader = Reader(rating_scale=(0, 5))\n",
    "\n",
    "# Train Models for Each User Type\n",
    "trainset_easy = Dataset.load_from_df(easy_raters[['userId', 'movieId', 'rating']], reader).build_full_trainset()\n",
    "trainset_normal = Dataset.load_from_df(normal_raters[['userId', 'movieId', 'rating']], reader).build_full_trainset()\n",
    "trainset_tough = Dataset.load_from_df(tough_raters[['userId', 'movieId', 'rating']], reader).build_full_trainset()"
   ]
  },
  {
   "cell_type": "code",
   "execution_count": 53,
   "id": "6c4db4b6-1277-400c-8762-c67957f506bf",
   "metadata": {
    "execution": {
     "iopub.execute_input": "2024-06-22T20:36:08.441998Z",
     "iopub.status.busy": "2024-06-22T20:36:08.441998Z",
     "iopub.status.idle": "2024-06-22T20:36:08.858312Z",
     "shell.execute_reply": "2024-06-22T20:36:08.857240Z",
     "shell.execute_reply.started": "2024-06-22T20:36:08.441998Z"
    }
   },
   "outputs": [
    {
     "name": "stdout",
     "output_type": "stream",
     "text": [
      "Computing the cosine similarity matrix...\n",
      "Done computing similarity matrix.\n",
      "Computing the cosine similarity matrix...\n",
      "Done computing similarity matrix.\n",
      "Computing the cosine similarity matrix...\n",
      "Done computing similarity matrix.\n"
     ]
    },
    {
     "data": {
      "text/plain": [
       "<surprise.prediction_algorithms.knns.KNNBasic at 0x1a94dcf57d0>"
      ]
     },
     "execution_count": 53,
     "metadata": {},
     "output_type": "execute_result"
    }
   ],
   "source": [
    "model_easy = KNNBasic(k=10, min_k=1, sim_options={'name': 'cosine', 'user_based': True})\n",
    "model_easy.fit(trainset_easy)\n",
    "\n",
    "model_normal = KNNBasic(k=10, min_k=1, sim_options={'name': 'cosine', 'user_based': True})\n",
    "model_normal.fit(trainset_normal)\n",
    "\n",
    "model_tough = KNNBasic(k=10, min_k=1, sim_options={'name': 'cosine', 'user_based': True})\n",
    "model_tough.fit(trainset_tough)"
   ]
  },
  {
   "cell_type": "code",
   "execution_count": 54,
   "id": "7fae82ad-c04a-443e-a52e-036afa726a9b",
   "metadata": {
    "execution": {
     "iopub.execute_input": "2024-06-22T20:36:15.713422Z",
     "iopub.status.busy": "2024-06-22T20:36:15.712538Z",
     "iopub.status.idle": "2024-06-22T23:06:31.820256Z",
     "shell.execute_reply": "2024-06-22T23:06:31.817733Z",
     "shell.execute_reply.started": "2024-06-22T20:36:15.713422Z"
    }
   },
   "outputs": [],
   "source": [
    "for user_id in test_data['userId'].unique():\n",
    "    user_test_data = test_data[test_data['userId'] == user_id]\n",
    "    user_cluster = user_data[user_data['userId'] == user_id]['cluster'].values[0]\n",
    "\n",
    "    if user_cluster == 0:  # Easy Raters\n",
    "        model = model_easy\n",
    "    elif user_cluster == 1:  # Normal Raters\n",
    "        model = model_normal\n",
    "    else:  # Tough Raters\n",
    "        model = model_tough\n",
    "\n",
    "    predictions = []  # Store predictions for this user\n",
    "    for movie_id in user_test_data['movieId']:\n",
    "        prediction = model.predict(user_id, movie_id)\n",
    "        predictions.append({'Id': f\"{user_id}_{movie_id}\", 'rating': prediction.est}) \n",
    "    \n",
    "    # Concatenate predictions to the dataframe\n",
    "    predictions_df = pd.concat([predictions_df, pd.DataFrame(predictions)], ignore_index=True) "
   ]
  },
  {
   "cell_type": "code",
   "execution_count": 55,
   "id": "26da42d2-8fd0-4c38-a6df-b4a3f937bb97",
   "metadata": {
    "execution": {
     "iopub.execute_input": "2024-06-22T23:06:32.706570Z",
     "iopub.status.busy": "2024-06-22T23:06:32.706570Z",
     "iopub.status.idle": "2024-06-22T23:06:32.737489Z",
     "shell.execute_reply": "2024-06-22T23:06:32.736475Z",
     "shell.execute_reply.started": "2024-06-22T23:06:32.706570Z"
    }
   },
   "outputs": [
    {
     "data": {
      "text/html": [
       "<div>\n",
       "<style scoped>\n",
       "    .dataframe tbody tr th:only-of-type {\n",
       "        vertical-align: middle;\n",
       "    }\n",
       "\n",
       "    .dataframe tbody tr th {\n",
       "        vertical-align: top;\n",
       "    }\n",
       "\n",
       "    .dataframe thead th {\n",
       "        text-align: right;\n",
       "    }\n",
       "</style>\n",
       "<table border=\"1\" class=\"dataframe\">\n",
       "  <thead>\n",
       "    <tr style=\"text-align: right;\">\n",
       "      <th></th>\n",
       "      <th>Id</th>\n",
       "      <th>rating</th>\n",
       "    </tr>\n",
       "  </thead>\n",
       "  <tbody>\n",
       "    <tr>\n",
       "      <th>0</th>\n",
       "      <td>1_2011</td>\n",
       "      <td>3.685016</td>\n",
       "    </tr>\n",
       "    <tr>\n",
       "      <th>1</th>\n",
       "      <td>1_4144</td>\n",
       "      <td>3.685016</td>\n",
       "    </tr>\n",
       "    <tr>\n",
       "      <th>2</th>\n",
       "      <td>1_5767</td>\n",
       "      <td>3.685016</td>\n",
       "    </tr>\n",
       "    <tr>\n",
       "      <th>3</th>\n",
       "      <td>1_6711</td>\n",
       "      <td>3.685016</td>\n",
       "    </tr>\n",
       "    <tr>\n",
       "      <th>4</th>\n",
       "      <td>1_7318</td>\n",
       "      <td>3.685016</td>\n",
       "    </tr>\n",
       "    <tr>\n",
       "      <th>...</th>\n",
       "      <td>...</td>\n",
       "      <td>...</td>\n",
       "    </tr>\n",
       "    <tr>\n",
       "      <th>5000014</th>\n",
       "      <td>162541_4079</td>\n",
       "      <td>3.685016</td>\n",
       "    </tr>\n",
       "    <tr>\n",
       "      <th>5000015</th>\n",
       "      <td>162541_4467</td>\n",
       "      <td>3.685016</td>\n",
       "    </tr>\n",
       "    <tr>\n",
       "      <th>5000016</th>\n",
       "      <td>162541_4980</td>\n",
       "      <td>3.685016</td>\n",
       "    </tr>\n",
       "    <tr>\n",
       "      <th>5000017</th>\n",
       "      <td>162541_5689</td>\n",
       "      <td>3.685016</td>\n",
       "    </tr>\n",
       "    <tr>\n",
       "      <th>5000018</th>\n",
       "      <td>162541_7153</td>\n",
       "      <td>3.685016</td>\n",
       "    </tr>\n",
       "  </tbody>\n",
       "</table>\n",
       "<p>5000019 rows × 2 columns</p>\n",
       "</div>"
      ],
      "text/plain": [
       "                  Id    rating\n",
       "0             1_2011  3.685016\n",
       "1             1_4144  3.685016\n",
       "2             1_5767  3.685016\n",
       "3             1_6711  3.685016\n",
       "4             1_7318  3.685016\n",
       "...              ...       ...\n",
       "5000014  162541_4079  3.685016\n",
       "5000015  162541_4467  3.685016\n",
       "5000016  162541_4980  3.685016\n",
       "5000017  162541_5689  3.685016\n",
       "5000018  162541_7153  3.685016\n",
       "\n",
       "[5000019 rows x 2 columns]"
      ]
     },
     "execution_count": 55,
     "metadata": {},
     "output_type": "execute_result"
    }
   ],
   "source": [
    "predictions_df"
   ]
  },
  {
   "cell_type": "code",
   "execution_count": 57,
   "id": "726d13ad-fd32-49dc-9771-02e061d29eb9",
   "metadata": {
    "execution": {
     "iopub.execute_input": "2024-06-22T23:07:00.090933Z",
     "iopub.status.busy": "2024-06-22T23:07:00.090195Z",
     "iopub.status.idle": "2024-06-22T23:07:10.103076Z",
     "shell.execute_reply": "2024-06-22T23:07:10.102092Z",
     "shell.execute_reply.started": "2024-06-22T23:07:00.090933Z"
    }
   },
   "outputs": [],
   "source": [
    "# 4. Save the predictions to a csv file.\n",
    "predictions_df.to_csv('./sub_final.csv', index=False)"
   ]
  },
  {
   "cell_type": "code",
   "execution_count": null,
   "id": "e2dfd452-3b28-463f-871b-904e64bcc911",
   "metadata": {},
   "outputs": [],
   "source": []
  }
 ],
 "metadata": {
  "kernelspec": {
   "display_name": "Python 3 (ipykernel)",
   "language": "python",
   "name": "python3"
  },
  "language_info": {
   "codemirror_mode": {
    "name": "ipython",
    "version": 3
   },
   "file_extension": ".py",
   "mimetype": "text/x-python",
   "name": "python",
   "nbconvert_exporter": "python",
   "pygments_lexer": "ipython3",
   "version": "3.11.8"
  },
  "widgets": {
   "application/vnd.jupyter.widget-state+json": {
    "state": {},
    "version_major": 2,
    "version_minor": 0
   }
  }
 },
 "nbformat": 4,
 "nbformat_minor": 5
}
